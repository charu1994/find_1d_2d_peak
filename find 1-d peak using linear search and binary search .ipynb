{
 "cells": [
  {
   "cell_type": "code",
   "execution_count": 1,
   "metadata": {},
   "outputs": [],
   "source": [
    "# import libraries \n",
    "import matplotlib.pyplot as plt "
   ]
  },
  {
   "cell_type": "markdown",
   "metadata": {},
   "source": [
    "1-D peak is the maxima in a line.\n",
    "suppose there are n number of elements or 1D array\n",
    "\n",
    "1D array = [n1, n2, n3,.........n-1, n] \n",
    "\n",
    "\n",
    "in this case n[i] can only be act as  peak if n[i] >= n[i-1] and n[i] >= n[i+1]\n",
    "\n",
    "\n",
    "Let's find 1-D peak using linear search algorithm.\n",
    "\n",
    "\n",
    "###### Note: here I am considering that there is only one peak present in the array \n",
    "\n",
    "Also, since in this notebook I will compare complexities. I would like to explain first what is log(n) complexity?\n",
    "let's say there is a sorted list or 1d array.\n",
    "\n",
    "[0, 1, 2, 3, 4, 5, 6, 7, 8, 9, 10, 11, 12, 13, 14, 15]\n",
    "\n",
    "now i wanna put 10 in this array. How will I do that?\n",
    "\n",
    "- first I will take the element at n/2 position which is 8 \n",
    "\n",
    "=> 16 * (1 / 2)  = 8\n",
    "- now i will compare it with 16. Since 16> 5 there is a posiblity that 16 will be in the right half positon, so, i am left with \n",
    "\n",
    "[ 8, 9, 10, 11, 12, 13, 14, 15]\n",
    "\n",
    "- now take compare 13 again with middle number \n",
    "\n",
    "=> 8 * 1/2  = 4  \n",
    "\n",
    "[12, 13, 14, 15 ] \n",
    "\n",
    "=> 4* 1/2  = 2\n",
    "\n",
    "[14, 15]\n",
    "=> 2 * 1/2   = 1\n",
    "\n",
    "[15] \n",
    "\n",
    "since 9 < 16, put 16 after 9\n",
    "\n",
    "now let's count the steps.\n",
    "10* 1/2 * 1/2 * 1/2 * 1/2\n",
    "\n",
    "10 * (1/2)^4 = 1 \n",
    "\n",
    "n * (1/2)^k = 1\n",
    "\n",
    "n / 2^k = 1 \n",
    "\n",
    "2^k * (n/ 2^k) = 2^k\n",
    "\n",
    "n = 2^k\n",
    "\n",
    "Now log is A quantity representing the power to which a fixed number (the base) must be raised to produce a given number.\n",
    "\n",
    "log2(n) = k\n",
    "\n",
    "\n",
    "\n",
    "Now, let's find a peak\n",
    "\n",
    "###   LINEAR SEARCH ALGORITHM\n",
    "\n",
    "\n",
    "\n"
   ]
  },
  {
   "cell_type": "code",
   "execution_count": 89,
   "metadata": {},
   "outputs": [],
   "source": [
    "def get_one_d_peak(one_d_array):\n",
    "    \n",
    "    max_peak = one_d_array[0]\n",
    "    tmp = one_d_array[0]\n",
    "    size_of_array = len(one_d_array)\n",
    "\n",
    "    for i in range(len(one_d_array)):\n",
    "        \n",
    "        \"\"\" \n",
    "        case 1:\n",
    "        if element is present at first location then check only right side element \n",
    "        \"\"\"\n",
    "        if i == 0:\n",
    "            if one_d_array[i] >= one_d_array[i+1]:\n",
    "                return one_d_array[i]        \n",
    "        \"\"\" \n",
    "        case 2:\n",
    "        if element is present anywhere except first and last position \n",
    "        \"\"\"\n",
    "        if i > 0 and i < (size_of_array - 1):\n",
    "            if one_d_array[i] >= one_d_array[i-1] and one_d_array[i] >= one_d_array[i+1] :\n",
    "                    return one_d_array[i]        \n",
    "        \"\"\"\n",
    "        case3:\n",
    "        if element is present at the last position then check only left side element \n",
    "        \"\"\"\n",
    "        if i == size_of_array - 1:\n",
    "            if one_d_array[i] >= one_d_array[i-1]:\n",
    "                    return one_d_array[i]\n",
    "            \n",
    "    return max_peak"
   ]
  },
  {
   "cell_type": "code",
   "execution_count": 3,
   "metadata": {},
   "outputs": [
    {
     "data": {
      "image/png": "[encoded data removed]",
      "text/plain": [
       "<Figure size 432x288 with 1 Axes>"
      ]
     },
     "metadata": {
      "needs_background": "light"
     },
     "output_type": "display_data"
    },
    {
     "name": "stdout",
     "output_type": "stream",
     "text": [
      "1.52 µs ± 35.7 ns per loop (mean ± std. dev. of 7 runs, 1000000 loops each)\n"
     ]
    },
    {
     "data": {
      "text/plain": [
       "10"
      ]
     },
     "execution_count": 3,
     "metadata": {},
     "output_type": "execute_result"
    }
   ],
   "source": [
    "one_d_array = [-5, -4, -2, -1 , 10, 3, 2, 1]\n",
    "plt.plot(one_d_array)\n",
    "plt.show()\n",
    "%timeit get_one_d_peak(one_d_array)\n",
    "get_one_d_peak(one_d_array)"
   ]
  },
  {
   "cell_type": "code",
   "execution_count": 4,
   "metadata": {},
   "outputs": [
    {
     "name": "stdout",
     "output_type": "stream",
     "text": [
      "4.73 µs ± 124 ns per loop (mean ± std. dev. of 7 runs, 100000 loops each)\n"
     ]
    },
    {
     "data": {
      "text/plain": [
       "19"
      ]
     },
     "execution_count": 4,
     "metadata": {},
     "output_type": "execute_result"
    },
    {
     "data": {
      "image/png": "[encoded data removed]",
      "text/plain": [
       "<Figure size 432x288 with 1 Axes>"
      ]
     },
     "metadata": {
      "needs_background": "light"
     },
     "output_type": "display_data"
    }
   ],
   "source": [
    "one_d_array = [1,2,3,4,5,6,7,8,9,10,11,12,13,14,15,16,17,18,19,2,1,1,1,1,1,1]\n",
    "plt.plot(one_d_array)\n",
    "%timeit get_one_d_peak(one_d_array)\n",
    "get_one_d_peak(one_d_array)"
   ]
  },
  {
   "cell_type": "code",
   "execution_count": 5,
   "metadata": {},
   "outputs": [
    {
     "name": "stdout",
     "output_type": "stream",
     "text": [
      "1.38 µs ± 51.2 ns per loop (mean ± std. dev. of 7 runs, 1000000 loops each)\n"
     ]
    },
    {
     "data": {
      "text/plain": [
       "45"
      ]
     },
     "execution_count": 5,
     "metadata": {},
     "output_type": "execute_result"
    }
   ],
   "source": [
    "one_d_array = [1,2,14,45,35]\n",
    "plt.show(one_d_array)\n",
    "%timeit get_one_d_peak(one_d_array)\n",
    "get_one_d_peak(one_d_array)"
   ]
  },
  {
   "cell_type": "markdown",
   "metadata": {},
   "source": [
    "since we are traversing every single element to get the peak, its time complexity is O(n).\n",
    "\n",
    "Let's check other time complexities "
   ]
  },
  {
   "cell_type": "markdown",
   "metadata": {},
   "source": [
    "### Divide and Conqure Algorithm\n",
    "\n",
    "To use this algorithm we need to sort the data first.\n",
    "\n",
    "Let one_d_array is of size n.\n",
    "\n",
    "    - then take the middle index number(one_d_array[n/2]) compare that number with the number or element present at n/2-1 abd n/2 + 1\n",
    "    - if one_d_arrar[n/2] < one_d_array[n/2 + 1] then search for the right side elements \n",
    "    - else search for the left side element \n",
    "    - if both cases will not work then n/2th element is the peak\n",
    "    - its complxity is O(log(n)) as we are taking n/2 steps at each iteration.\n",
    "    \n",
    " \n",
    "    \n"
   ]
  },
  {
   "cell_type": "code",
   "execution_count": 6,
   "metadata": {},
   "outputs": [],
   "source": [
    "def perform_divide_and_conquer(one_d_array):\n",
    "        # get new middle number \n",
    "        print('array:', one_d_array)\n",
    "        middle_idx = int(len(one_d_array)/2)\n",
    "        middle_num = one_d_array[middle_idx]\n",
    "        print('middle number:', middle_num)\n",
    "        \n",
    "        if len(one_d_array) > 2:\n",
    "            \"\"\" \n",
    "            case 1:\n",
    "            if middle number is greater than or equal to left and right number then the middle number is a peak\n",
    "            \"\"\"\n",
    "            if (middle_num >= one_d_array[middle_idx - 1 ]) and (middle_num >= one_d_array[middle_idx + 1]) :\n",
    "                print('peak:', middle_num)\n",
    "                return middle_num  \n",
    "            \n",
    "\n",
    "            \"\"\" \n",
    "            case 2:\n",
    "            if middle number less than right number then search only in right half\n",
    "            \"\"\"\n",
    "            if (middle_num >= one_d_array[middle_idx -1]) and (middle_num < one_d_array[middle_idx + 1]): \n",
    "                one_d_array = one_d_array[middle_idx: ]\n",
    "                return perform_divide_and_conquer(one_d_array)\n",
    "\n",
    "            \"\"\" \n",
    "            case 3:\n",
    "            if middle number less than left number then search only in left half\n",
    "            \"\"\"\n",
    "            if (middle_num < one_d_array[middle_idx -1]) and (middle_num >= one_d_array[middle_idx + 1]): \n",
    "                one_d_array = one_d_array[: middle_idx]\n",
    "                return perform_divide_and_conquer(one_d_array)\n",
    "\n",
    "        else: # if length of array is less than 2\n",
    "            print('peak:', max(one_d_array))\n",
    "            return max(one_d_array)\n",
    "    \n",
    "        \n",
    "        "
   ]
  },
  {
   "cell_type": "code",
   "execution_count": 7,
   "metadata": {},
   "outputs": [
    {
     "data": {
      "image/png": "[encoded data removed]",
      "text/plain": [
       "<Figure size 432x288 with 1 Axes>"
      ]
     },
     "metadata": {
      "needs_background": "light"
     },
     "output_type": "display_data"
    },
    {
     "name": "stdout",
     "output_type": "stream",
     "text": [
      "array: [1, 2, 3, 4, 5, 6, 7, 8, 9, 0]\n",
      "middle number: 6\n",
      "array: [6, 7, 8, 9, 0]\n",
      "middle number: 8\n",
      "array: [8, 9, 0]\n",
      "middle number: 9\n",
      "peak: 9\n"
     ]
    },
    {
     "data": {
      "text/plain": [
       "9"
      ]
     },
     "execution_count": 7,
     "metadata": {},
     "output_type": "execute_result"
    }
   ],
   "source": [
    "one_d_array = [1,2,3,4,5,6,7,8,9,0]\n",
    "plt.plot(one_d_array)\n",
    "plt.show()\n",
    "perform_divide_and_conquer(one_d_array)"
   ]
  },
  {
   "cell_type": "code",
   "execution_count": 8,
   "metadata": {},
   "outputs": [
    {
     "data": {
      "image/png": "[encoded data removed]",
      "text/plain": [
       "<Figure size 432x288 with 1 Axes>"
      ]
     },
     "metadata": {
      "needs_background": "light"
     },
     "output_type": "display_data"
    },
    {
     "name": "stdout",
     "output_type": "stream",
     "text": [
      "array: [-3, -2, -1, 0, -1, -2, -3, -4, -5]\n",
      "middle number: -1\n",
      "array: [-3, -2, -1, 0]\n",
      "middle number: -1\n",
      "array: [-1, 0]\n",
      "middle number: 0\n",
      "peak: 0\n"
     ]
    },
    {
     "data": {
      "text/plain": [
       "0"
      ]
     },
     "execution_count": 8,
     "metadata": {},
     "output_type": "execute_result"
    }
   ],
   "source": [
    "one_d_array = [-3,-2,-1,0,-1,-2,-3,-4,-5]\n",
    "plt.plot(one_d_array)\n",
    "plt.show()\n",
    "perform_divide_and_conquer(one_d_array)"
   ]
  },
  {
   "cell_type": "markdown",
   "metadata": {},
   "source": [
    "### Let's search 2d peak\n",
    "\n",
    "By 2D peak I mean that number should be greater than its immediate top and down of that number and immediate left and right of that number \n",
    "- it should make a cone\n",
    "for example:\n",
    "consider a matrix - \n",
    "\n",
    "[[ 1, 3, 3],\n",
    "\n",
    "[2, 4, 2],\n",
    "\n",
    "[3, 2, 1] ]\n",
    "\n",
    "\n",
    "in the above matrix 4 is the peak as it is greater than top-value(3), down-value(2), right-value(2), left-value(2)\n"
   ]
  },
  {
   "cell_type": "markdown",
   "metadata": {},
   "source": [
    "#### Linear Search Algorithm"
   ]
  },
  {
   "cell_type": "code",
   "execution_count": 9,
   "metadata": {},
   "outputs": [],
   "source": [
    "def linear_search_2d_peak(two_d_array):\n",
    "    total_rows, total_cols = two_d_array.shape\n",
    "    for row in range(total_rows):\n",
    "        for col in range(total_cols):\n",
    "            # case 1: if pointer is at (0,0) position.\n",
    "            if row == 0 and col == 0:\n",
    "                if ((two_d_array[row][col] >= two_d_array[row][col + 1])\n",
    "                and (two_d_array[row][col] >= two_d_array[row + 1][col])):\n",
    "                    return two_d_array[row][col]\n",
    "            # case 2: if pointer is at last position:\n",
    "            if (row == total_rows - 1) and (col == total_cols - 1):\n",
    "                if ((two_d_array[row][col] >= two_d_array[row][col - 1]) \n",
    "                and (two_d_array[row][col] >= two_d_array[row - 1][col])):\n",
    "                    return two_d_array[row][col]\n",
    "            # check in 2 directions\n",
    "            if row == 0 and col == total_cols - 1 :\n",
    "                if ((two_d_array[row][col] >= two_d_array[row][col - 1]) \n",
    "                and (two_d_array[row][col] >= two_d_array[row + 1][col])):\n",
    "                    return two_d_array[row][col]\n",
    "            if row == total_rows - 1 and col == 0:\n",
    "                if ((two_d_array[row][col] >= two_d_array[row][col + 1])\n",
    "                and (two_d_array[row][col] >= two_d_array[row - 1][col])):\n",
    "                    return two_d_array[row][col]\n",
    "                \n",
    "           \n",
    "            # case 3: check in 3 directions \n",
    "            if row == 0 and col != 0 and col != total_cols - 1:\n",
    "                if ((two_d_array[row][col] >= two_d_array[row][col - 1]) \n",
    "                and (two_d_array[row][col] >= two_d_array[row][col + 1])\n",
    "                and (two_d_array[row][col] >= two_d_array[row + 1][col])):\n",
    "                    return two_d_array[row][col]\n",
    "            if row == total_rows - 1 and col != total_cols - 1 and col != 0:\n",
    "                if ((two_d_array[row][col] >= two_d_array[row][col - 1]) \n",
    "                and (two_d_array[row][col] >= two_d_array[row][col + 1])\n",
    "                and (two_d_array[row][col] >= two_d_array[row - 1][col])):\n",
    "                    return two_d_array[row][col]\n",
    "            if col == 0 and row != 0 and row != total_rows - 1:\n",
    "                if ((two_d_array[row][col] >= two_d_array[row][col + 1])\n",
    "                and (two_d_array[row][col] >= two_d_array[row -1 ][col])\n",
    "                and (two_d_array[row][col] >= two_d_array[row + 1][col])):\n",
    "                    return two_d_array[row][col]\n",
    "            if col == total_cols - 1 and row != total_rows - 1 and row != 0:\n",
    "                if ((two_d_array[row][col] >= two_d_array[row][col - 1])\n",
    "                and (two_d_array[row][col] >= two_d_array[row -1][col])\n",
    "                and (two_d_array[row][col] >= two_d_array[row + 1][col])):\n",
    "                    return two_d_array[row][col]\n",
    "                \n",
    "            \n",
    "            # case 4: check in 4 directions\n",
    "            if ((two_d_array[row][col] >= two_d_array[row][col-1]) \n",
    "            and (two_d_array[row][col] >= two_d_array[row][col + 1]) \n",
    "            and (two_d_array[row][col] >= two_d_array[row - 1][col])\n",
    "            and (two_d_array[row][col] >= two_d_array[row + 1][col])):\n",
    "                return two_d_array[row][col]\n",
    "\n",
    "                    \n",
    "                \n",
    "                \n",
    "                    "
   ]
  },
  {
   "cell_type": "code",
   "execution_count": 10,
   "metadata": {},
   "outputs": [
    {
     "data": {
      "text/plain": [
       "array([[ 1,  1,  0],\n",
       "       [ 2,  3,  1],\n",
       "       [ 1,  0, -1]])"
      ]
     },
     "execution_count": 10,
     "metadata": {},
     "output_type": "execute_result"
    }
   ],
   "source": [
    "import numpy as np\n",
    "import matplotlib.pyplot as plt\n",
    "\n",
    "\n",
    "lst = [[1,1, 0,], [2,3,1], [1,0,-1]]\n",
    "two_d_array = np.array(lst)\n",
    "two_d_array"
   ]
  },
  {
   "cell_type": "code",
   "execution_count": 11,
   "metadata": {},
   "outputs": [
    {
     "data": {
      "text/plain": [
       "3"
      ]
     },
     "execution_count": 11,
     "metadata": {},
     "output_type": "execute_result"
    }
   ],
   "source": [
    "linear_search_2d_peak(two_d_array)"
   ]
  },
  {
   "cell_type": "markdown",
   "metadata": {},
   "source": [
    "as you can see this is the worse approach one can try !\n",
    "\n",
    "- it is traversing every single element and comparing with other values.\n",
    "- its complexity is O(nm) and if n = m then it is n^2\n",
    "- let's try some other approch called \"Greedy Ascent Algorithm\"\n",
    "\n",
    "#### Greedy Ascent Algorithm\n",
    "- it choose some element let's say first element then it compares it with other adjacent elements and move in the direction in which element value is higher than that element.\n",
    "- if no element is higher than that element then it will gives that element as a peak\n",
    "- we are traversing every element to get the peak and in worse case this algorithm may traverse every single element. Therefore, its complexity is O(nm).\n",
    "- But it is somewhat better approach as compare to linear approach."
   ]
  },
  {
   "cell_type": "code",
   "execution_count": 59,
   "metadata": {},
   "outputs": [],
   "source": [
    "\"\"\" \n",
    "function to check the row and column is falling on the matrix or inside the matrix\n",
    "\"\"\"\n",
    "def validate_row_col(row, col, total_rows, total_cols):\n",
    "    if (row < 0 ) or (row > (total_rows - 1)):\n",
    "        return False\n",
    "    elif (col < 0) or (col > (total_cols - 1)):\n",
    "        return False\n",
    "    else:\n",
    "        return True\n",
    "\n",
    "\"\"\"\n",
    "greedy ascent algorithm in which element compare itself from neighbouring elements and move in the direction of the element\n",
    "which is greater than that element, if at certain point it finds a element which is greater than all of its neighbour then it \n",
    "will return that element.\n",
    "\n",
    "\"\"\"\n",
    "def greedy_ascent_algo(two_d_array, row=0, col=0):\n",
    "    max_num = two_d_array[row][col]\n",
    "    total_rows, total_cols = two_d_array.shape\n",
    "    # if element is at corner (0, 0) \n",
    "    # check right\n",
    "    if validate_row_col(row, col + 1, total_cols=total_cols, total_rows=total_rows):\n",
    "        if max_num < two_d_array[row][col + 1]:\n",
    "            max_num = two_d_array[row][col + 1]\n",
    "            row = row\n",
    "            col = col + 1\n",
    "            return greedy_ascent_algo(two_d_array, row, col)\n",
    "   \n",
    "        \n",
    "    # check left\n",
    "    if validate_row_col(row=row, col=col-1, total_rows=total_rows, total_cols=total_cols):\n",
    "        \n",
    "        if max_num < two_d_array[row][col - 1]:\n",
    "            max_num = two_d_array[row][col - 1]\n",
    "            row = row\n",
    "            col = col - 1\n",
    "            return greedy_ascent_algo(two_d_array, row, col)\n",
    "\n",
    "    # check below\n",
    "    if validate_row_col(row= row + 1, col=col, total_cols=total_cols, total_rows=total_rows):\n",
    "        if max_num < two_d_array[row + 1][col]:\n",
    "            max_num = two_d_array[row + 1][col]\n",
    "            row = row + 1\n",
    "            col = col\n",
    "            return greedy_ascent_algo(two_d_array, row, col)\n",
    "    \n",
    "    # check top\n",
    "    if validate_row_col(row= row - 1, col=col, total_cols=total_cols, total_rows=total_rows):\n",
    "        if max_num < two_d_array[row - 1][col]:\n",
    "            max_num = two_d_array[row - 1][col]\n",
    "            row = row - 1\n",
    "            col = col\n",
    "            return greedy_ascent_algo(two_d_array, row, col)\n",
    "        \n",
    "    # if the element is not less than its neighbour elements than it is the peak\n",
    "    return max_num \n",
    "\n",
    " "
   ]
  },
  {
   "cell_type": "code",
   "execution_count": 60,
   "metadata": {},
   "outputs": [
    {
     "data": {
      "text/plain": [
       "array([[ 1,  1,  0],\n",
       "       [ 5,  3,  1],\n",
       "       [ 6,  7, 20]])"
      ]
     },
     "execution_count": 60,
     "metadata": {},
     "output_type": "execute_result"
    }
   ],
   "source": [
    "two_d_array"
   ]
  },
  {
   "cell_type": "code",
   "execution_count": 61,
   "metadata": {},
   "outputs": [
    {
     "data": {
      "text/plain": [
       "20"
      ]
     },
     "execution_count": 61,
     "metadata": {},
     "output_type": "execute_result"
    }
   ],
   "source": [
    "greedy_ascent_algo(two_d_array=two_d_array)"
   ]
  },
  {
   "cell_type": "code",
   "execution_count": 62,
   "metadata": {},
   "outputs": [
    {
     "data": {
      "text/plain": [
       "array([[1, 2, 1],\n",
       "       [0, 1, 0],\n",
       "       [0, 0, 0]])"
      ]
     },
     "execution_count": 62,
     "metadata": {},
     "output_type": "execute_result"
    }
   ],
   "source": [
    "two_d_array = np.array([[1,2,1],[0, 1, 0], [0 , 0 , 0]])\n",
    "two_d_array"
   ]
  },
  {
   "cell_type": "code",
   "execution_count": 63,
   "metadata": {},
   "outputs": [
    {
     "data": {
      "text/plain": [
       "2"
      ]
     },
     "execution_count": 63,
     "metadata": {},
     "output_type": "execute_result"
    }
   ],
   "source": [
    "greedy_ascent_algo(two_d_array)"
   ]
  },
  {
   "cell_type": "markdown",
   "metadata": {},
   "source": [
    "### Divide And Conqure Algorithm\n",
    "\n",
    "again we will choose a middle element and take the global maxima of that row then we will compare it with it's neighbours now if any of the neighbour is greater than the current element then we will take global maxima of that row repeat the procedure.\n",
    "\n",
    "for example : consider a matrix \n",
    "      \n",
    "       [ 1,  1,  0]\n",
    "       [ 5,  3,  1]\n",
    "       [ 6,  7, 20]\n",
    "\n",
    "- step 1: take the middle element which is 3\n",
    "- then take global maxima of that row which is 5\n",
    "- then compare 5 with its adjacent neighbours and move in the direction of the value which is greater than that which is 6 \n",
    "- now take the global maxima of that row (20) and compare it with its adjacent neghbours [7, 1]\n",
    "- 20 > 7 and 1 therefore it is 2d peak\n",
    "- since we are taking n/2 steps in finding peak and m steps in finding global maxima of the row, its complexity is \n",
    "  O(mlog(n))\n",
    "\n",
    "       \n"
   ]
  },
  {
   "cell_type": "code",
   "execution_count": 84,
   "metadata": {},
   "outputs": [],
   "source": [
    "def divide_and_conqure_2d(two_d_array, row=0, col=0, count=0):\n",
    "    total_rows, total_cols = two_d_array.shape\n",
    "    \n",
    "    #first step is to get middle value\n",
    "    if count == 0:\n",
    "        middle_row = int (total_rows / 2)\n",
    "        middle_col = int(total_cols / 2)\n",
    "        \n",
    "    # on other steps update variables with the new values of row and col\n",
    "    else: \n",
    "        middle_row = row\n",
    "        middle_col = col\n",
    "            \n",
    "    # take global maxima of middle row\n",
    "    max_val = two_d_array[middle_row][middle_col]\n",
    "    col = middle_col\n",
    "    row = middle_row\n",
    "    for i in range(len(two_d_array[middle_row, :])):\n",
    "        if max_val < two_d_array[middle_row, i]:\n",
    "            max_val = two_d_array[middle_row, i]\n",
    "            col = i \n",
    "            row = middle_row\n",
    "    \n",
    "    # now compare this global maxima value of row with its adjacent neighbours\n",
    "    # check above\n",
    "    if validate_row_col(row=row - 1, col=col, total_cols=total_cols, total_rows=total_rows):\n",
    "        if max_val < two_d_array[row- 1][col]:\n",
    "            max_val = two_d_array[row - 1][col]\n",
    "            count +=1\n",
    "            row = row -1\n",
    "            col = col\n",
    "            return divide_and_conqure_2d(two_d_array, count=count, row=row, col=col)\n",
    "    # check below\n",
    "    if validate_row_col(row=row + 1, col=col, total_cols=total_cols, total_rows=total_rows):\n",
    "        if max_val < two_d_array[row + 1][col]:\n",
    "            max_val = two_d_array[row + 1][col]\n",
    "            count +=1\n",
    "            row = row + 1\n",
    "            col = col\n",
    "            return divide_and_conqure_2d(two_d_array, count=count, row=row, col=col)\n",
    "    \n",
    "    # if the element is not smaller than its adjacent elements then it is a 2d peak.\n",
    "    return max_val\n",
    "    "
   ]
  },
  {
   "cell_type": "code",
   "execution_count": 85,
   "metadata": {},
   "outputs": [
    {
     "data": {
      "text/plain": [
       "array([[ 1,  1,  0],\n",
       "       [ 5,  3,  1],\n",
       "       [ 6,  7, 20]])"
      ]
     },
     "execution_count": 85,
     "metadata": {},
     "output_type": "execute_result"
    }
   ],
   "source": [
    "two_d_array = np.array([[ 1,  1,  0],\n",
    "   [ 5,  3,  1],\n",
    "   [ 6,  7, 20]])\n",
    "two_d_array"
   ]
  },
  {
   "cell_type": "code",
   "execution_count": 86,
   "metadata": {},
   "outputs": [
    {
     "data": {
      "text/plain": [
       "20"
      ]
     },
     "execution_count": 86,
     "metadata": {},
     "output_type": "execute_result"
    }
   ],
   "source": [
    "divide_and_conqure_2d(two_d_array)"
   ]
  },
  {
   "cell_type": "code",
   "execution_count": 87,
   "metadata": {},
   "outputs": [
    {
     "data": {
      "text/plain": [
       "array([[1, 2, 1],\n",
       "       [0, 1, 0],\n",
       "       [0, 0, 0]])"
      ]
     },
     "execution_count": 87,
     "metadata": {},
     "output_type": "execute_result"
    }
   ],
   "source": [
    "two_d_array = np.array([[1,2,1],[0, 1, 0], [0 , 0 , 0]])\n",
    "two_d_array"
   ]
  },
  {
   "cell_type": "code",
   "execution_count": 88,
   "metadata": {},
   "outputs": [
    {
     "data": {
      "text/plain": [
       "2"
      ]
     },
     "execution_count": 88,
     "metadata": {},
     "output_type": "execute_result"
    }
   ],
   "source": [
    "divide_and_conqure_2d(two_d_array)"
   ]
  },
  {
   "cell_type": "code",
   "execution_count": null,
   "metadata": {},
   "outputs": [],
   "source": []
  }
 ],
 "metadata": {
  "kernelspec": {
   "display_name": "Python 3",
   "language": "python",
   "name": "python3"
  },
  "language_info": {
   "codemirror_mode": {
    "name": "ipython",
    "version": 3
   },
   "file_extension": ".py",
   "mimetype": "text/x-python",
   "name": "python",
   "nbconvert_exporter": "python",
   "pygments_lexer": "ipython3",
   "version": "3.7.3"
  }
 },
 "nbformat": 4,
 "nbformat_minor": 2
}
